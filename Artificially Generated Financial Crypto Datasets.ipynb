{
 "cells": [
  {
   "cell_type": "markdown",
   "id": "31edfbe2",
   "metadata": {},
   "source": [
    "# 1. Introduction"
   ]
  },
  {
   "cell_type": "markdown",
   "id": "f649787f",
   "metadata": {},
   "source": [
    "**Objective - Create Artificial Data:** In this project I have artificially created datasets with the objective to closely resemble actual crypto-currency data from financial apps and/or digital wallets. Let us assume that a hypothetical company has decided to rollout one or more modules in its app and is trying to understand the impact of these new modules on the users, transaction frequency, transaction amount, complications with new modules, etc.\n",
    "\n",
    "**Inspiration:** Several real financial datasets were used as inspiration for this project in order to understand the schema, data range, data types, and underlying patterns of users and transactions.\n",
    "\n",
    "**Randomization and manipulation:** However, *there is absolutely no similarity with the actual, real projects*. User IDs and Trading IDs have been randomized, and the data patterns have been manipulated to give the perception of real fluctuations.\n",
    "\n",
    "**Limitations:** Please note that this project is for illustration purposes and in no way offers any actual customer information. There are still a few limitations in the data ranges and patterns which have been intentionally left in the code and will merit additional examination. "
   ]
  },
  {
   "cell_type": "markdown",
   "id": "bf850468",
   "metadata": {},
   "source": [
    "# 2. Overview of objectives"
   ]
  },
  {
   "cell_type": "markdown",
   "id": "541a1b39",
   "metadata": {},
   "source": [
    "**Key Objective:** *Create two datasets, one prior and one after the introduction of new financial modules in a hypothetical financial platform. These datasets can be used as training to run t-tests/AB tests for measure effects, ETL processes, data manipulation and standardization, user clustering among other modelling or statistical tests.*\n",
    "\n",
    "**Rundown of specific operational objectives:**\n",
    "\n",
    "- **Privacy:** Create artificial datasets featuring cryptocurrencies that resemble but do not have any tangible similarity with actual datasets. No real identifiers are to be presented in order to prevent data aggregation to determine customer identity.\n",
    "- **Hypothetical app - two timeframes:** The two datasets need to represent two different time periods: one before and one after the introduction of several hypothetical application modules in a crypto financial app (the natural of the modules themselves is not the objective, they could functional, operational, cosmetic, added functionality between frontend and backend databases, etc.) \n",
    "- **Real cryptonames - artificial data:** The data must feature real cryptocurrency names and modest, realistic values (e.g. not 100k of Bitcoin)\n",
    "- **Realistic variables:** The data must resemble variables found in financial apps, this includes phase one/two or leg one/two transactions, randomized user IDs, transaction IDs, etc.The data must feature a few \"quirks\" that make them realistic, be it problems, flaws, or feature a few incidents that need to be addressed (especially in the second, post-module dataset). However, they should not feature any outliers (at least in this first version)."
   ]
  },
  {
   "cell_type": "markdown",
   "id": "96545192",
   "metadata": {},
   "source": [
    "# 3. Generating Pre-Module Dataset"
   ]
  },
  {
   "cell_type": "markdown",
   "id": "60f3765d",
   "metadata": {},
   "source": [
    "## 3.1 Importing Libraries"
   ]
  },
  {
   "cell_type": "code",
   "execution_count": 4,
   "id": "d8d86e40",
   "metadata": {},
   "outputs": [],
   "source": [
    "import pandas as pd\n",
    "import numpy as np\n",
    "import random\n",
    "import string\n",
    "import matplotlib.pyplot as plt\n",
    "import seaborn as sns\n",
    "from datetime import datetime, timedelta"
   ]
  },
  {
   "cell_type": "markdown",
   "id": "26bf2eeb",
   "metadata": {},
   "source": [
    "## 3.2 Choosing Variables"
   ]
  },
  {
   "cell_type": "markdown",
   "id": "4c6d5f40",
   "metadata": {},
   "source": [
    "I have chosen the following variables/columns/features to be present in each dataset:\n",
    "- trade_id: shows the transaction ID, it a unique column that can also function as a unique identifier in SQL databases if needed\n",
    "- user_id: shows the user ID, there must be several similar user IDs in the each dataset but also in-between datasets, but also allow several hypothetical users to \"leave\" the app after the modules have been introduced to simulate more realistic data\n",
    "- conf_date: stands for Confirmation Date, which is the date of confirmation for the initial transaction\n",
    "- leg 1 and 2 (type, amount, conf_status): Leg One and Leg Two are standard terms in financial apps and stand for the initial and secondary transaction process in the app. Leg_1_type illustrates the type of cryptocurrency (i.e. name), leg_1_amount illustrates the amount of each crypto traded/invested, leg_1_conf_status illustrates the outcomes of the transaction (I have choosen three to be featured: confirmed, pending, declined). Similar options must exist for the leg_2 variable.    "
   ]
  },
  {
   "cell_type": "markdown",
   "id": "befe48f6",
   "metadata": {},
   "source": [
    "## 3.3 Generating dataset"
   ]
  },
  {
   "cell_type": "markdown",
   "id": "dcc84a67",
   "metadata": {},
   "source": [
    "This dataframe depicts the business-as-usual status of the financial app, prior to the introduction of the new hypothetical app module/modules."
   ]
  },
  {
   "cell_type": "code",
   "execution_count": 5,
   "id": "0adb8402",
   "metadata": {},
   "outputs": [],
   "source": [
    "# Pre-Module Dataframe\n",
    "\n",
    "# Define several cryptocurrency names and their associated amount ranges\n",
    "crypto_names = {\n",
    "    'Monero': (5.5, 113.7),\n",
    "    'Gnosis': (5.5, 113.7),\n",
    "    'Litecoin': (5.5, 113.7),\n",
    "    'Illuvium': (5.5, 113.7),\n",
    "    'GMX': (5.5, 113.7),\n",
    "    'LINK': (3.1, 205.2),\n",
    "    'Kusama': (3.1, 205.2),\n",
    "    'Solana': (3.1, 205.2),\n",
    "    'Compound': (3.1, 205.2),\n",
    "    'Bitcoin SV': (3.1, 205.2),\n",
    "    'Ethereum Classic': (8.4, 145.2),\n",
    "    'Avalanche': (8.4, 145.2),\n",
    "    'IOTA': (8.4, 145.2),\n",
    "    'Neo': (8.4, 145.2),\n",
    "    'GateToken': (8.4, 145.2)\n",
    "}\n",
    "\n",
    "# Define the number of users and their corresponding number of transactions\n",
    "NUM_USERS = 140\n",
    "# number of users with 5 or more transactions = 33\n",
    "# number of users with 10 or more transactions = 40\n",
    "\n",
    "# Define the start and end dates for the transaction execution dates\n",
    "START_DATE = datetime(2022, 1, 1)\n",
    "END_DATE = datetime(2022, 6, 29)\n",
    "\n",
    "# Generate the user IDs\n",
    "user_ids = []\n",
    "for i in range(NUM_USERS):\n",
    "    user_ids.append(str(random.randint(333, 1000)) + ''.join(random.choices(string.ascii_lowercase, k=8)))\n",
    "\n",
    "# Generate the trade IDs and associated data\n",
    "trade_data = []\n",
    "for user_id in user_ids:\n",
    "    num_txns = 1\n",
    "    if random.randint(1, 100) <= 33:\n",
    "        num_txns = random.randint(5, 9)\n",
    "    elif random.randint(1, 100) <= 40:\n",
    "        num_txns = random.randint(10, 20)\n",
    "        \n",
    "    for i in range(num_txns):\n",
    "        trade_id = str(random.randint(444, 1000)) + ''.join(random.choices(string.ascii_letters + string.digits, k=10))\n",
    "        confirmation_date = START_DATE + timedelta(days=random.randint(0, (END_DATE - START_DATE).days))\n",
    "        \n",
    "        leg1_type = random.choice(list(crypto_names.keys()))\n",
    "        leg1_amount = round(random.uniform(*crypto_names[leg1_type]), 2)\n",
    "        leg1_conf_categories = ['confirmed', 'pending', 'declined']\n",
    "        leg1_conf_weights = [0.85,0.1,0.05]\n",
    "        leg1_conf_status = random.choices(leg1_conf_categories, weights = leg1_conf_weights)[0]\n",
    "        \n",
    "        # Choose a different crypto type for leg 2 that wasn't used in leg 1\n",
    "        leg2_type = random.choice([ct for ct in crypto_names.keys() if ct != leg1_type])\n",
    "        leg2_amount = round(random.uniform(*crypto_names[leg2_type]), 2)\n",
    "                \n",
    "               \n",
    "        trade_data.append({\n",
    "            'trade_id': trade_id,\n",
    "            'user_id': user_id,\n",
    "            'conf_date': confirmation_date.strftime('%Y-%m-%d'),\n",
    "            'leg_1_type': leg1_type,\n",
    "            'leg_1_amount': leg1_amount,\n",
    "            'leg_1_conf_status': leg1_conf_status,\n",
    "            'leg_2_type': leg2_type,\n",
    "            'leg_2_amount': 'Unknown',\n",
    "            'leg_2_conf_status': leg1_conf_status})\n",
    "\n",
    "df_pre_mod = pd.DataFrame(trade_data)\n",
    "\n",
    "# Define leg_2 confirmation status\n",
    "df_pre_mod['leg_2_conf_status'] = df_pre_mod['leg_1_conf_status']\n",
    "leg_2_weights = [0.90,0.08,0.02]\n",
    "leg_2_categories = ['confirmed','pending','declined']\n",
    "\n",
    "for i, status in enumerate(df_pre_mod['leg_2_conf_status']):\n",
    "    if status == 'confirmed':\n",
    "        new_status = random.choices(leg_2_categories, weights=leg_2_weights)[0]\n",
    "        df_pre_mod.at[i, 'leg_2_conf_status'] = new_status"
   ]
  },
  {
   "cell_type": "markdown",
   "id": "510307fd",
   "metadata": {},
   "source": [
    "# 4. Generating Post-Module Dataset"
   ]
  },
  {
   "cell_type": "markdown",
   "id": "85b11955",
   "metadata": {},
   "source": [
    "Note that the schema and column structure remains the same in the post-module dataset."
   ]
  },
  {
   "cell_type": "markdown",
   "id": "6a5e7629",
   "metadata": {},
   "source": [
    "## 4.1 Generating dataset"
   ]
  },
  {
   "cell_type": "code",
   "execution_count": 6,
   "id": "d28998a7",
   "metadata": {},
   "outputs": [],
   "source": [
    "# Dataframe 2 - after the introduction of the app modules\n",
    "\n",
    "import random\n",
    "import string\n",
    "from datetime import datetime, timedelta\n",
    "\n",
    "# Define the cryptocurrencies and their associated amount ranges\n",
    "\n",
    "crypto_names_post = {name: (round(value[0]*1.35,3), value[1]*1.35) for name, value in crypto_names.items()}\n",
    "\n",
    "# Define the number of users and their corresponding number of transactions\n",
    "NUM_USERS = 185\n",
    "# number of users with 5 or more transactions = 55\n",
    "# number of users with 10 or more transactions = 36\n",
    "\n",
    "# Define the start and end dates for the transaction execution dates\n",
    "START_DATE = datetime(2022, 7, 1)\n",
    "END_DATE = datetime(2022, 11, 28)\n",
    "\n",
    "# Generate the user IDs\n",
    "user_ids = []\n",
    "for i in range(NUM_USERS):\n",
    "    user_ids.append(str(random.randint(444, 1500)) + ''.join(random.choices(string.ascii_lowercase, k=8)))\n",
    "\n",
    "# Generate the trade IDs and associated data\n",
    "trade_data = []\n",
    "for user_id in user_ids:\n",
    "    num_txns = 1\n",
    "    if random.randint(1, 100) <= 55:\n",
    "        num_txns = random.randint(4, 14)\n",
    "    elif random.randint(1, 100) <= 37:\n",
    "        num_txns = random.randint(10, 30)\n",
    "        \n",
    "    for i in range(num_txns):\n",
    "        trade_id = str(random.randint(333, 1000)) + ''.join(random.choices(string.ascii_letters + string.digits, k=10))\n",
    "        exec_date = START_DATE + timedelta(days=random.randint(0, (END_DATE - START_DATE).days))\n",
    "        \n",
    "        # I am manually adjusting the weights in order to show various levels of inconsistencies after the module introduction\n",
    "        leg1_type = random.choice(list(crypto_names_post.keys()))\n",
    "        leg1_amount = round(random.uniform(*crypto_names_post[leg1_type]), 2)\n",
    "        leg1_conf_categories = ['confirmed', 'pending', 'declined']\n",
    "        leg1_conf_weights = [0.75,0.15,0.1]\n",
    "        leg1_conf_status = random.choices(leg1_conf_categories, weights = leg1_conf_weights)[0]\n",
    "        \n",
    "        leg2_type = random.choice([ct for ct in crypto_names_post.keys() if ct != leg1_type])\n",
    "        leg2_amount = round(random.uniform(*crypto_names_post[leg2_type]), 2)\n",
    "        \n",
    "        \n",
    "        trade_data.append({\n",
    "            'trade_id': trade_id,\n",
    "            'user_id': user_id,\n",
    "            'conf_date': exec_date.strftime('%Y-%m-%d'),\n",
    "            'leg_1_type': leg1_type,\n",
    "            'leg_1_amount': leg1_amount,\n",
    "            'leg_1_conf_status': leg1_conf_status,\n",
    "            'leg_2_type': leg2_type,\n",
    "            'leg_2_amount': 'Unknown'})\n",
    "\n",
    "df_post_mod = pd.DataFrame(trade_data)\n",
    "\n",
    "# Define leg_2 confirmation status\n",
    "df_post_mod['leg_2_conf_status'] = df_post_mod['leg_1_conf_status']\n",
    "leg_2_weights = [0.75,0.15,0.1]\n",
    "leg_2_categories = ['confirmed','pending','declined']\n",
    "\n",
    "for i, status in enumerate(df_post_mod['leg_2_conf_status']):\n",
    "    if status == 'confirmed':\n",
    "        new_status = random.choices(leg_2_categories, weights=leg_2_weights)[0]\n",
    "        df_post_mod.at[i, 'leg_2_conf_status'] = new_status"
   ]
  },
  {
   "cell_type": "markdown",
   "id": "3cf16cb2",
   "metadata": {},
   "source": [
    "# 5. Maintaining User ID continuation between dataframes"
   ]
  },
  {
   "cell_type": "markdown",
   "id": "f9a44ec6",
   "metadata": {},
   "source": [
    "In order to maintain certain users in the pre-module and post-module datasets we will need to select, duplicate, and inject certain user IDs from the pre-mod df to the post-mod df."
   ]
  },
  {
   "cell_type": "markdown",
   "id": "cd3a0daa",
   "metadata": {},
   "source": [
    "First, let us check if there are any duplicate values between our two dfs up until this point."
   ]
  },
  {
   "cell_type": "code",
   "execution_count": 7,
   "id": "7183e529",
   "metadata": {},
   "outputs": [
    {
     "name": "stdout",
     "output_type": "stream",
     "text": [
      "--> No duplicate user ID values found between the two dataframes.\n"
     ]
    }
   ],
   "source": [
    "is_duplicate_user = df_post_mod['user_id'].isin(df_pre_mod['user_id'])\n",
    "\n",
    "if is_duplicate_user.any():\n",
    "    print(\"--> There are duplicate user ID values between the two dataframes.\")\n",
    "else:\n",
    "    print(\"--> No duplicate user ID values found between the two dataframes.\")"
   ]
  },
  {
   "cell_type": "markdown",
   "id": "32e29744",
   "metadata": {},
   "source": [
    "No duplicate User IDs found, meaning that 1) our randomization process worked, and that 2) we need to inject a few user IDs to our second dataset. Why do we need to perform this step? Because otherwise we will have absolutely no similar user IDs between our two dfs. Which, in practice, would mean that the very moment the new modules were introduced in the app there would not be a single original user that still used that app! That would not be very realistic now would it? Imagine if every time your favorite software plaform is updated, all users are purged from the system are only new users are allowed to register again."
   ]
  },
  {
   "cell_type": "markdown",
   "id": "7889159b",
   "metadata": {},
   "source": [
    "We can solve this problem by slicing our two datasets, select several indeces and then infusing them.\n",
    "\n",
    "Please note that while this would have been easier if I randomized the *selection of the indeces* it would obviously be... random, and therefore would not allow for the specific selection of various strata. By using a naturally sorted .value_counts() command, I can slice through specific stata, i.e. various levels of transactions.\n",
    "\n",
    "Refer to the example below. User IDs at the top have the highest frequency of transactions, while those at the bottom hold the least."
   ]
  },
  {
   "cell_type": "code",
   "execution_count": 8,
   "id": "17043e31",
   "metadata": {},
   "outputs": [
    {
     "data": {
      "text/plain": [
       "392bdwuqqjp    20\n",
       "971ojgfwhvl    20\n",
       "923pqjhalxe    20\n",
       "431hlzcigab    20\n",
       "989qohllwgh    20\n",
       "               ..\n",
       "665ncfnldef     1\n",
       "739byidylzt     1\n",
       "427fypfvstl     1\n",
       "726yubpmytv     1\n",
       "840xsvnxemj     1\n",
       "Name: user_id, Length: 140, dtype: int64"
      ]
     },
     "execution_count": 8,
     "metadata": {},
     "output_type": "execute_result"
    }
   ],
   "source": [
    "# Showcasing the value counts of user IDs\n",
    "df_pre_mod['user_id'].value_counts()"
   ]
  },
  {
   "cell_type": "markdown",
   "id": "0ea91434",
   "metadata": {},
   "source": [
    "We can now slice this pandas Series, extract a few indices, and use it to infuse our second df."
   ]
  },
  {
   "cell_type": "code",
   "execution_count": 9,
   "id": "703ab410",
   "metadata": {},
   "outputs": [],
   "source": [
    "# slicing index for pre-mod users\n",
    "# we will then paste it to post-mod users in order to preserve certain same users (i.e. user_id)\n",
    "# This will also allow us to run various test statistics if needed\n",
    "\n",
    "list_users_pre = df_pre_mod['user_id'].value_counts()\n",
    "\n",
    "s1 = list_users_pre[0:5]\n",
    "s2 = list_users_pre[10:15]\n",
    "s3 = list_users_pre[25:35]\n",
    "s4 = list_users_pre[40:45]\n",
    "s5 = list_users_pre[60:65]\n",
    "s6 = list_users_pre[75:85]\n",
    "\n",
    "total_list_users_pre = pd.concat(objs=[s1, s2, s3, s4, s5, s6])\n",
    "\n",
    "total_list_users_pre = total_list_users_pre.index"
   ]
  },
  {
   "cell_type": "markdown",
   "id": "c7f859dd",
   "metadata": {},
   "source": [
    "We now perform a similar operation for the post-module users"
   ]
  },
  {
   "cell_type": "code",
   "execution_count": 10,
   "id": "897b9598",
   "metadata": {},
   "outputs": [],
   "source": [
    "# post-mod users\n",
    "\n",
    "list_users_post = df_post_mod['user_id'].value_counts()\n",
    "\n",
    "s1 = list_users_post[0:5]\n",
    "s2 = list_users_post[10:15]\n",
    "s3 = list_users_post[25:35]\n",
    "s4 = list_users_post[40:45]\n",
    "s5 = list_users_post[60:65]\n",
    "s6 = list_users_post[75:85]\n",
    "\n",
    "total_list_users_post = pd.concat(objs=[s1, s2, s3, s4, s5, s6])\n",
    "\n",
    "total_list_users_post = total_list_users_post.index"
   ]
  },
  {
   "cell_type": "markdown",
   "id": "70f7fbb4",
   "metadata": {},
   "source": [
    "Then finally merge them together to simulate user continuation between timeframes."
   ]
  },
  {
   "cell_type": "code",
   "execution_count": 11,
   "id": "c08bc9f1",
   "metadata": {},
   "outputs": [],
   "source": [
    "df_post_mod['user_id'] = df_post_mod['user_id'].replace(total_list_users_post, total_list_users_pre)"
   ]
  },
  {
   "cell_type": "markdown",
   "id": "5a1f0107",
   "metadata": {},
   "source": [
    "Now let us test this operation once again and make sure there are multiple values this time."
   ]
  },
  {
   "cell_type": "code",
   "execution_count": 12,
   "id": "0ac61082",
   "metadata": {},
   "outputs": [
    {
     "name": "stdout",
     "output_type": "stream",
     "text": [
      "--> There are duplicate user ID values between the two dataframes.\n"
     ]
    }
   ],
   "source": [
    "is_duplicate_user = df_post_mod['user_id'].isin(df_pre_mod['user_id'])\n",
    "\n",
    "if is_duplicate_user.any():\n",
    "    print(\"--> There are duplicate user ID values between the two dataframes.\")\n",
    "else:\n",
    "    print(\"--> No duplicate user ID values found between the two dataframes.\")"
   ]
  },
  {
   "cell_type": "markdown",
   "id": "1992c639",
   "metadata": {},
   "source": [
    "Index infusion completed.\n",
    "\n",
    "Our two dataframes are now ready for a basic overview."
   ]
  },
  {
   "cell_type": "markdown",
   "id": "5d56c47f",
   "metadata": {},
   "source": [
    "# 6. Dataframe Overview"
   ]
  },
  {
   "cell_type": "markdown",
   "id": "8c934a06",
   "metadata": {},
   "source": [
    "## 6.1 Pre-Module Overview"
   ]
  },
  {
   "cell_type": "code",
   "execution_count": 13,
   "id": "d0083c19",
   "metadata": {
    "scrolled": true
   },
   "outputs": [
    {
     "data": {
      "text/html": [
       "<div>\n",
       "<style scoped>\n",
       "    .dataframe tbody tr th:only-of-type {\n",
       "        vertical-align: middle;\n",
       "    }\n",
       "\n",
       "    .dataframe tbody tr th {\n",
       "        vertical-align: top;\n",
       "    }\n",
       "\n",
       "    .dataframe thead th {\n",
       "        text-align: right;\n",
       "    }\n",
       "</style>\n",
       "<table border=\"1\" class=\"dataframe\">\n",
       "  <thead>\n",
       "    <tr style=\"text-align: right;\">\n",
       "      <th></th>\n",
       "      <th>trade_id</th>\n",
       "      <th>user_id</th>\n",
       "      <th>conf_date</th>\n",
       "      <th>leg_1_type</th>\n",
       "      <th>leg_1_amount</th>\n",
       "      <th>leg_1_conf_status</th>\n",
       "      <th>leg_2_type</th>\n",
       "      <th>leg_2_amount</th>\n",
       "      <th>leg_2_conf_status</th>\n",
       "    </tr>\n",
       "  </thead>\n",
       "  <tbody>\n",
       "    <tr>\n",
       "      <th>0</th>\n",
       "      <td>752IUzHrh3FQu</td>\n",
       "      <td>838xgsinqnn</td>\n",
       "      <td>2022-04-24</td>\n",
       "      <td>Solana</td>\n",
       "      <td>194.62</td>\n",
       "      <td>confirmed</td>\n",
       "      <td>Bitcoin SV</td>\n",
       "      <td>Unknown</td>\n",
       "      <td>confirmed</td>\n",
       "    </tr>\n",
       "    <tr>\n",
       "      <th>1</th>\n",
       "      <td>659PzkJ2qpw7y</td>\n",
       "      <td>838xgsinqnn</td>\n",
       "      <td>2022-01-09</td>\n",
       "      <td>Litecoin</td>\n",
       "      <td>55.43</td>\n",
       "      <td>confirmed</td>\n",
       "      <td>Compound</td>\n",
       "      <td>Unknown</td>\n",
       "      <td>confirmed</td>\n",
       "    </tr>\n",
       "    <tr>\n",
       "      <th>2</th>\n",
       "      <td>879KNMizmmGOw</td>\n",
       "      <td>838xgsinqnn</td>\n",
       "      <td>2022-06-15</td>\n",
       "      <td>IOTA</td>\n",
       "      <td>135.78</td>\n",
       "      <td>confirmed</td>\n",
       "      <td>Neo</td>\n",
       "      <td>Unknown</td>\n",
       "      <td>confirmed</td>\n",
       "    </tr>\n",
       "    <tr>\n",
       "      <th>3</th>\n",
       "      <td>572c18Mof5zwE</td>\n",
       "      <td>838xgsinqnn</td>\n",
       "      <td>2022-03-16</td>\n",
       "      <td>GateToken</td>\n",
       "      <td>84.12</td>\n",
       "      <td>confirmed</td>\n",
       "      <td>Avalanche</td>\n",
       "      <td>Unknown</td>\n",
       "      <td>confirmed</td>\n",
       "    </tr>\n",
       "    <tr>\n",
       "      <th>4</th>\n",
       "      <td>93019AWXhWxjV</td>\n",
       "      <td>838xgsinqnn</td>\n",
       "      <td>2022-01-04</td>\n",
       "      <td>GMX</td>\n",
       "      <td>112.68</td>\n",
       "      <td>confirmed</td>\n",
       "      <td>IOTA</td>\n",
       "      <td>Unknown</td>\n",
       "      <td>confirmed</td>\n",
       "    </tr>\n",
       "  </tbody>\n",
       "</table>\n",
       "</div>"
      ],
      "text/plain": [
       "        trade_id      user_id   conf_date leg_1_type  leg_1_amount  \\\n",
       "0  752IUzHrh3FQu  838xgsinqnn  2022-04-24     Solana        194.62   \n",
       "1  659PzkJ2qpw7y  838xgsinqnn  2022-01-09   Litecoin         55.43   \n",
       "2  879KNMizmmGOw  838xgsinqnn  2022-06-15       IOTA        135.78   \n",
       "3  572c18Mof5zwE  838xgsinqnn  2022-03-16  GateToken         84.12   \n",
       "4  93019AWXhWxjV  838xgsinqnn  2022-01-04        GMX        112.68   \n",
       "\n",
       "  leg_1_conf_status  leg_2_type leg_2_amount leg_2_conf_status  \n",
       "0         confirmed  Bitcoin SV      Unknown         confirmed  \n",
       "1         confirmed    Compound      Unknown         confirmed  \n",
       "2         confirmed         Neo      Unknown         confirmed  \n",
       "3         confirmed   Avalanche      Unknown         confirmed  \n",
       "4         confirmed        IOTA      Unknown         confirmed  "
      ]
     },
     "execution_count": 13,
     "metadata": {},
     "output_type": "execute_result"
    }
   ],
   "source": [
    "df_pre_mod.head()"
   ]
  },
  {
   "cell_type": "code",
   "execution_count": 14,
   "id": "46cd32fd",
   "metadata": {},
   "outputs": [
    {
     "name": "stdout",
     "output_type": "stream",
     "text": [
      "\n",
      "Pre-Module:\n"
     ]
    },
    {
     "data": {
      "text/html": [
       "<div>\n",
       "<style scoped>\n",
       "    .dataframe tbody tr th:only-of-type {\n",
       "        vertical-align: middle;\n",
       "    }\n",
       "\n",
       "    .dataframe tbody tr th {\n",
       "        vertical-align: top;\n",
       "    }\n",
       "\n",
       "    .dataframe thead th {\n",
       "        text-align: right;\n",
       "    }\n",
       "</style>\n",
       "<table border=\"1\" class=\"dataframe\">\n",
       "  <thead>\n",
       "    <tr style=\"text-align: right;\">\n",
       "      <th></th>\n",
       "      <th>Data Types</th>\n",
       "      <th>Unique Values</th>\n",
       "      <th>Number of NA Values</th>\n",
       "      <th>%Perc of NA Values</th>\n",
       "    </tr>\n",
       "  </thead>\n",
       "  <tbody>\n",
       "    <tr>\n",
       "      <th>trade_id</th>\n",
       "      <td>object</td>\n",
       "      <td>898</td>\n",
       "      <td>0</td>\n",
       "      <td>0.0</td>\n",
       "    </tr>\n",
       "    <tr>\n",
       "      <th>leg_1_amount</th>\n",
       "      <td>float64</td>\n",
       "      <td>876</td>\n",
       "      <td>0</td>\n",
       "      <td>0.0</td>\n",
       "    </tr>\n",
       "    <tr>\n",
       "      <th>conf_date</th>\n",
       "      <td>object</td>\n",
       "      <td>178</td>\n",
       "      <td>0</td>\n",
       "      <td>0.0</td>\n",
       "    </tr>\n",
       "    <tr>\n",
       "      <th>user_id</th>\n",
       "      <td>object</td>\n",
       "      <td>140</td>\n",
       "      <td>0</td>\n",
       "      <td>0.0</td>\n",
       "    </tr>\n",
       "    <tr>\n",
       "      <th>leg_1_type</th>\n",
       "      <td>object</td>\n",
       "      <td>15</td>\n",
       "      <td>0</td>\n",
       "      <td>0.0</td>\n",
       "    </tr>\n",
       "    <tr>\n",
       "      <th>leg_2_type</th>\n",
       "      <td>object</td>\n",
       "      <td>15</td>\n",
       "      <td>0</td>\n",
       "      <td>0.0</td>\n",
       "    </tr>\n",
       "    <tr>\n",
       "      <th>leg_1_conf_status</th>\n",
       "      <td>object</td>\n",
       "      <td>3</td>\n",
       "      <td>0</td>\n",
       "      <td>0.0</td>\n",
       "    </tr>\n",
       "    <tr>\n",
       "      <th>leg_2_conf_status</th>\n",
       "      <td>object</td>\n",
       "      <td>3</td>\n",
       "      <td>0</td>\n",
       "      <td>0.0</td>\n",
       "    </tr>\n",
       "    <tr>\n",
       "      <th>leg_2_amount</th>\n",
       "      <td>object</td>\n",
       "      <td>1</td>\n",
       "      <td>0</td>\n",
       "      <td>0.0</td>\n",
       "    </tr>\n",
       "  </tbody>\n",
       "</table>\n",
       "</div>"
      ],
      "text/plain": [
       "                  Data Types  Unique Values  Number of NA Values  \\\n",
       "trade_id              object            898                    0   \n",
       "leg_1_amount         float64            876                    0   \n",
       "conf_date             object            178                    0   \n",
       "user_id               object            140                    0   \n",
       "leg_1_type            object             15                    0   \n",
       "leg_2_type            object             15                    0   \n",
       "leg_1_conf_status     object              3                    0   \n",
       "leg_2_conf_status     object              3                    0   \n",
       "leg_2_amount          object              1                    0   \n",
       "\n",
       "                   %Perc of NA Values  \n",
       "trade_id                          0.0  \n",
       "leg_1_amount                      0.0  \n",
       "conf_date                         0.0  \n",
       "user_id                           0.0  \n",
       "leg_1_type                        0.0  \n",
       "leg_2_type                        0.0  \n",
       "leg_1_conf_status                 0.0  \n",
       "leg_2_conf_status                 0.0  \n",
       "leg_2_amount                      0.0  "
      ]
     },
     "execution_count": 14,
     "metadata": {},
     "output_type": "execute_result"
    }
   ],
   "source": [
    "numb_NA_vals = df_pre_mod.isna().sum()\n",
    "NA_vals_percentage = round(numb_NA_vals/len(df_pre_mod)*100, 2)\n",
    "\n",
    "df_NA = pd.DataFrame({\n",
    "    'Data Types': df_pre_mod.dtypes,\n",
    "    'Unique Values': df_pre_mod.nunique(),\n",
    "    \"Number of NA Values\": numb_NA_vals,\n",
    "    \"%Perc of NA Values\": NA_vals_percentage\n",
    "})\n",
    "print(\"\\nPre-Module:\")\n",
    "df_NA.sort_values(by='Unique Values', ascending = False)"
   ]
  },
  {
   "cell_type": "code",
   "execution_count": 15,
   "id": "80cbb5e6",
   "metadata": {
    "scrolled": false
   },
   "outputs": [
    {
     "data": {
      "image/png": "[encoded data removed]",
      "text/plain": [
       "<Figure size 1296x504 with 4 Axes>"
      ]
     },
     "metadata": {
      "needs_background": "light"
     },
     "output_type": "display_data"
    }
   ],
   "source": [
    "fig, ax = plt.subplots(1,4,figsize=(18,7))\n",
    "\n",
    "x1 = df_pre_mod['leg_1_amount']\n",
    "x2 = df_pre_mod['user_id'].value_counts()\n",
    "x3 = df_pre_mod.groupby(['leg_1_conf_status']).sum()\n",
    "\n",
    "sns.histplot(data=df_pre_mod, x=x1, ax=ax[0]).set(title=\"Histogram of Initial Trade Amount\")\n",
    "sns.violinplot(data=df_pre_mod, x=x2, ax=ax[1]).set(title=\"Violinplot of Initial Trade Amount\")\n",
    "sns.histplot(data=df_pre_mod, x=x2, ax=ax[2]).set(title=\"Histogram of Number of Trades per User\")\n",
    "\n",
    "# Adding Pie chart\n",
    "ax[3].pie(x=x3.values.flatten(), labels=x3.index, autopct='%1.1f%%')\n",
    "ax[3].set_title(\"Pie chart of Confirmation Status (Leg 1)\")\n",
    "\n",
    "fig.suptitle(\"Top-level view of pre-module\", size = 15)\n",
    "plt.show()"
   ]
  },
  {
   "cell_type": "markdown",
   "id": "90af3872",
   "metadata": {},
   "source": [
    "## 6.2 Post-Module Overview"
   ]
  },
  {
   "cell_type": "code",
   "execution_count": 16,
   "id": "c73d8b88",
   "metadata": {
    "scrolled": false
   },
   "outputs": [
    {
     "data": {
      "text/html": [
       "<div>\n",
       "<style scoped>\n",
       "    .dataframe tbody tr th:only-of-type {\n",
       "        vertical-align: middle;\n",
       "    }\n",
       "\n",
       "    .dataframe tbody tr th {\n",
       "        vertical-align: top;\n",
       "    }\n",
       "\n",
       "    .dataframe thead th {\n",
       "        text-align: right;\n",
       "    }\n",
       "</style>\n",
       "<table border=\"1\" class=\"dataframe\">\n",
       "  <thead>\n",
       "    <tr style=\"text-align: right;\">\n",
       "      <th></th>\n",
       "      <th>trade_id</th>\n",
       "      <th>user_id</th>\n",
       "      <th>conf_date</th>\n",
       "      <th>leg_1_type</th>\n",
       "      <th>leg_1_amount</th>\n",
       "      <th>leg_1_conf_status</th>\n",
       "      <th>leg_2_type</th>\n",
       "      <th>leg_2_amount</th>\n",
       "      <th>leg_2_conf_status</th>\n",
       "    </tr>\n",
       "  </thead>\n",
       "  <tbody>\n",
       "    <tr>\n",
       "      <th>0</th>\n",
       "      <td>920DNSTJbq2R8</td>\n",
       "      <td>458mwkdzdar</td>\n",
       "      <td>2022-08-22</td>\n",
       "      <td>GateToken</td>\n",
       "      <td>35.18</td>\n",
       "      <td>confirmed</td>\n",
       "      <td>Solana</td>\n",
       "      <td>Unknown</td>\n",
       "      <td>declined</td>\n",
       "    </tr>\n",
       "    <tr>\n",
       "      <th>1</th>\n",
       "      <td>342dkHmfGZT6g</td>\n",
       "      <td>458mwkdzdar</td>\n",
       "      <td>2022-11-04</td>\n",
       "      <td>GMX</td>\n",
       "      <td>64.26</td>\n",
       "      <td>confirmed</td>\n",
       "      <td>LINK</td>\n",
       "      <td>Unknown</td>\n",
       "      <td>declined</td>\n",
       "    </tr>\n",
       "    <tr>\n",
       "      <th>2</th>\n",
       "      <td>687c5VzTNsDLA</td>\n",
       "      <td>458mwkdzdar</td>\n",
       "      <td>2022-11-15</td>\n",
       "      <td>Monero</td>\n",
       "      <td>73.24</td>\n",
       "      <td>confirmed</td>\n",
       "      <td>LINK</td>\n",
       "      <td>Unknown</td>\n",
       "      <td>confirmed</td>\n",
       "    </tr>\n",
       "    <tr>\n",
       "      <th>3</th>\n",
       "      <td>906atRwWbkgeW</td>\n",
       "      <td>458mwkdzdar</td>\n",
       "      <td>2022-09-24</td>\n",
       "      <td>Monero</td>\n",
       "      <td>124.02</td>\n",
       "      <td>pending</td>\n",
       "      <td>Avalanche</td>\n",
       "      <td>Unknown</td>\n",
       "      <td>pending</td>\n",
       "    </tr>\n",
       "    <tr>\n",
       "      <th>4</th>\n",
       "      <td>454XERmKadTH7</td>\n",
       "      <td>458mwkdzdar</td>\n",
       "      <td>2022-08-31</td>\n",
       "      <td>Kusama</td>\n",
       "      <td>264.79</td>\n",
       "      <td>confirmed</td>\n",
       "      <td>Litecoin</td>\n",
       "      <td>Unknown</td>\n",
       "      <td>confirmed</td>\n",
       "    </tr>\n",
       "  </tbody>\n",
       "</table>\n",
       "</div>"
      ],
      "text/plain": [
       "        trade_id      user_id   conf_date leg_1_type  leg_1_amount  \\\n",
       "0  920DNSTJbq2R8  458mwkdzdar  2022-08-22  GateToken         35.18   \n",
       "1  342dkHmfGZT6g  458mwkdzdar  2022-11-04        GMX         64.26   \n",
       "2  687c5VzTNsDLA  458mwkdzdar  2022-11-15     Monero         73.24   \n",
       "3  906atRwWbkgeW  458mwkdzdar  2022-09-24     Monero        124.02   \n",
       "4  454XERmKadTH7  458mwkdzdar  2022-08-31     Kusama        264.79   \n",
       "\n",
       "  leg_1_conf_status leg_2_type leg_2_amount leg_2_conf_status  \n",
       "0         confirmed     Solana      Unknown          declined  \n",
       "1         confirmed       LINK      Unknown          declined  \n",
       "2         confirmed       LINK      Unknown         confirmed  \n",
       "3           pending  Avalanche      Unknown           pending  \n",
       "4         confirmed   Litecoin      Unknown         confirmed  "
      ]
     },
     "execution_count": 16,
     "metadata": {},
     "output_type": "execute_result"
    }
   ],
   "source": [
    "df_post_mod.head()"
   ]
  },
  {
   "cell_type": "code",
   "execution_count": 17,
   "id": "592e6373",
   "metadata": {
    "scrolled": true
   },
   "outputs": [
    {
     "name": "stdout",
     "output_type": "stream",
     "text": [
      "\n",
      "Post-Module:\n"
     ]
    },
    {
     "data": {
      "text/html": [
       "<div>\n",
       "<style scoped>\n",
       "    .dataframe tbody tr th:only-of-type {\n",
       "        vertical-align: middle;\n",
       "    }\n",
       "\n",
       "    .dataframe tbody tr th {\n",
       "        vertical-align: top;\n",
       "    }\n",
       "\n",
       "    .dataframe thead th {\n",
       "        text-align: right;\n",
       "    }\n",
       "</style>\n",
       "<table border=\"1\" class=\"dataframe\">\n",
       "  <thead>\n",
       "    <tr style=\"text-align: right;\">\n",
       "      <th></th>\n",
       "      <th>Data Types</th>\n",
       "      <th>Unique Values</th>\n",
       "      <th>Number of NA Values</th>\n",
       "      <th>%Perc of NA Values</th>\n",
       "    </tr>\n",
       "  </thead>\n",
       "  <tbody>\n",
       "    <tr>\n",
       "      <th>trade_id</th>\n",
       "      <td>object</td>\n",
       "      <td>1519</td>\n",
       "      <td>0</td>\n",
       "      <td>0.0</td>\n",
       "    </tr>\n",
       "    <tr>\n",
       "      <th>leg_1_amount</th>\n",
       "      <td>float64</td>\n",
       "      <td>1456</td>\n",
       "      <td>0</td>\n",
       "      <td>0.0</td>\n",
       "    </tr>\n",
       "    <tr>\n",
       "      <th>user_id</th>\n",
       "      <td>object</td>\n",
       "      <td>185</td>\n",
       "      <td>0</td>\n",
       "      <td>0.0</td>\n",
       "    </tr>\n",
       "    <tr>\n",
       "      <th>conf_date</th>\n",
       "      <td>object</td>\n",
       "      <td>151</td>\n",
       "      <td>0</td>\n",
       "      <td>0.0</td>\n",
       "    </tr>\n",
       "    <tr>\n",
       "      <th>leg_1_type</th>\n",
       "      <td>object</td>\n",
       "      <td>15</td>\n",
       "      <td>0</td>\n",
       "      <td>0.0</td>\n",
       "    </tr>\n",
       "    <tr>\n",
       "      <th>leg_2_type</th>\n",
       "      <td>object</td>\n",
       "      <td>15</td>\n",
       "      <td>0</td>\n",
       "      <td>0.0</td>\n",
       "    </tr>\n",
       "    <tr>\n",
       "      <th>leg_1_conf_status</th>\n",
       "      <td>object</td>\n",
       "      <td>3</td>\n",
       "      <td>0</td>\n",
       "      <td>0.0</td>\n",
       "    </tr>\n",
       "    <tr>\n",
       "      <th>leg_2_conf_status</th>\n",
       "      <td>object</td>\n",
       "      <td>3</td>\n",
       "      <td>0</td>\n",
       "      <td>0.0</td>\n",
       "    </tr>\n",
       "    <tr>\n",
       "      <th>leg_2_amount</th>\n",
       "      <td>object</td>\n",
       "      <td>1</td>\n",
       "      <td>0</td>\n",
       "      <td>0.0</td>\n",
       "    </tr>\n",
       "  </tbody>\n",
       "</table>\n",
       "</div>"
      ],
      "text/plain": [
       "                  Data Types  Unique Values  Number of NA Values  \\\n",
       "trade_id              object           1519                    0   \n",
       "leg_1_amount         float64           1456                    0   \n",
       "user_id               object            185                    0   \n",
       "conf_date             object            151                    0   \n",
       "leg_1_type            object             15                    0   \n",
       "leg_2_type            object             15                    0   \n",
       "leg_1_conf_status     object              3                    0   \n",
       "leg_2_conf_status     object              3                    0   \n",
       "leg_2_amount          object              1                    0   \n",
       "\n",
       "                   %Perc of NA Values  \n",
       "trade_id                          0.0  \n",
       "leg_1_amount                      0.0  \n",
       "user_id                           0.0  \n",
       "conf_date                         0.0  \n",
       "leg_1_type                        0.0  \n",
       "leg_2_type                        0.0  \n",
       "leg_1_conf_status                 0.0  \n",
       "leg_2_conf_status                 0.0  \n",
       "leg_2_amount                      0.0  "
      ]
     },
     "execution_count": 17,
     "metadata": {},
     "output_type": "execute_result"
    }
   ],
   "source": [
    "numb_NA_vals = df_post_mod.isna().sum()\n",
    "NA_vals_percentage = round(numb_NA_vals/len(df_pre_mod)*100, 2)\n",
    "\n",
    "df_NA = pd.DataFrame({\n",
    "    'Data Types': df_post_mod.dtypes,\n",
    "    'Unique Values': df_post_mod.nunique(),\n",
    "    \"Number of NA Values\": numb_NA_vals,\n",
    "    \"%Perc of NA Values\": NA_vals_percentage\n",
    "})\n",
    "print(\"\\nPost-Module:\")\n",
    "df_NA.sort_values(by='Unique Values', ascending = False)"
   ]
  },
  {
   "cell_type": "code",
   "execution_count": 19,
   "id": "be898c68",
   "metadata": {},
   "outputs": [
    {
     "data": {
      "image/png": "[encoded data removed]",
      "text/plain": [
       "<Figure size 1296x504 with 4 Axes>"
      ]
     },
     "metadata": {
      "needs_background": "light"
     },
     "output_type": "display_data"
    }
   ],
   "source": [
    "fig, ax = plt.subplots(1,4,figsize=(18,7))\n",
    "\n",
    "x1 = df_post_mod['leg_1_amount']\n",
    "x2 = df_post_mod['user_id'].value_counts()\n",
    "x3 = df_post_mod.groupby(['leg_1_conf_status']).sum()\n",
    "\n",
    "sns.histplot(data=df_post_mod, x=x1, ax=ax[0]).set(title=\"Histogram of Initial Trade Amount\")\n",
    "sns.violinplot(data=df_post_mod, x=x2, ax=ax[1]).set(title=\"Violinplot of Initial Trade Amount\")\n",
    "sns.histplot(data=df_post_mod, x=x2, ax=ax[2]).set(title=\"Histogram of Number of Trades per User\")\n",
    "\n",
    "# Adding Pie chart\n",
    "ax[3].pie(x=x3.values.flatten(), labels=x3.index, autopct='%1.1f%%')\n",
    "ax[3].set_title(\"Pie chart of Confirmation Status (Leg 1)\")\n",
    "\n",
    "fig.suptitle(\"Top-level view of post-module\", size = 15)\n",
    "plt.show()"
   ]
  },
  {
   "cell_type": "markdown",
   "id": "3979e2d5",
   "metadata": {},
   "source": [
    "This concludes the synthetic data overview in this python notebook. Although utilizing real datasets is by far superior to artificially generated ones, this notebook aimed to provide a foundation for analysts looking for sample financial app data with a focus towrads cryptocurrencies, user churn, and transaction optimization. \n",
    "\n",
    "Follow-up projects will elaborate on methodology for feature engineering, hypothesis setting, assumption testing and statistical testing processes."
   ]
  }
 ],
 "metadata": {
  "kernelspec": {
   "display_name": "Python 3 (ipykernel)",
   "language": "python",
   "name": "python3"
  },
  "language_info": {
   "codemirror_mode": {
    "name": "ipython",
    "version": 3
   },
   "file_extension": ".py",
   "mimetype": "text/x-python",
   "name": "python",
   "nbconvert_exporter": "python",
   "pygments_lexer": "ipython3",
   "version": "3.9.12"
  }
 },
 "nbformat": 4,
 "nbformat_minor": 5
}
